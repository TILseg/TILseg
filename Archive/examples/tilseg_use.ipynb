{
 "cells": [
  {
   "cell_type": "code",
   "execution_count": 1,
   "metadata": {},
   "outputs": [],
   "source": [
    "# import necessary functions\n",
    "from tilseg.preprocessing import preprocess\n",
    "from tilseg.model_selection import opt_kmeans\n",
    "from tilseg.seg import KMeans_superpatch_fit, clustering_score, segment_TILs"
   ]
  },
  {
   "cell_type": "code",
   "execution_count": null,
   "metadata": {},
   "outputs": [],
   "source": [
    "superpatch = preprocess('/Users/example_user/slides_folder/')"
   ]
  },
  {
   "cell_type": "code",
   "execution_count": null,
   "metadata": {},
   "outputs": [],
   "source": [
    "# Reshape superpatch\n",
    "superpatch_array = superpatch.reshape((-1,3))/255.\n",
    "# Optimize hyperparameters for KMeans\n",
    "kmeans_parameters = opt_kmeans(superpatch_array, n_clusters = [1,2,3,4,5,6,7,8,9,10])"
   ]
  },
  {
   "cell_type": "code",
   "execution_count": null,
   "metadata": {},
   "outputs": [],
   "source": [
    "# Fit a KMeans model to a superpatch\n",
    "model_super = KMeans_superpatch_fit(\n",
    "    patch_path='/Users/example_user/superpatch_image_file',\n",
    "    hyperparameter_dict={'n_clusters': 4})"
   ]
  },
  {
   "cell_type": "code",
   "execution_count": null,
   "metadata": {},
   "outputs": [],
   "source": [
    "# Score the KMeans model on a patch\n",
    "s_score, ch_score, db_score= clustering_score(patch_path='/Users/example_user/patch_image_file_to_score', \n",
    "                                              hyperparameter_dict=None,\n",
    "                                              algorithm='KMeans',\n",
    "                                              model=model_super, \n",
    "                                              gen_s_score=False,\n",
    "                                              gen_ch_score=True,\n",
    "                                              gen_db_score=True)"
   ]
  },
  {
   "cell_type": "code",
   "execution_count": null,
   "metadata": {},
   "outputs": [],
   "source": [
    "# Segment TILs using KMeans model fitted on a superpatch\n",
    "TIL_count_dict = segment_TILs( \n",
    "                     in_dir_path='/Users/example_user/directory_containing_patches_to_segment', \n",
    "                     out_dir_path='/Users/example_user/directory_to_save_output_files',\n",
    "                     hyperparameter_dict=None,\n",
    "                     model=model_super,\n",
    "                     algorithm='KMeans',\n",
    "                     save_TILs_overlay=True,\n",
    "                     save_cluster_masks=True,\n",
    "                     save_cluster_overlays=True,\n",
    "                     save_all_clusters_img=True,\n",
    "                     save_csv=True)"
   ]
  }
 ],
 "metadata": {
  "kernelspec": {
   "display_name": "Python 3 (ipykernel)",
   "language": "python",
   "name": "python3"
  },
  "language_info": {
   "codemirror_mode": {
    "name": "ipython",
    "version": 3
   },
   "file_extension": ".py",
   "mimetype": "text/x-python",
   "name": "python",
   "nbconvert_exporter": "python",
   "pygments_lexer": "ipython3",
   "version": "3.9.12"
  }
 },
 "nbformat": 4,
 "nbformat_minor": 2
}
